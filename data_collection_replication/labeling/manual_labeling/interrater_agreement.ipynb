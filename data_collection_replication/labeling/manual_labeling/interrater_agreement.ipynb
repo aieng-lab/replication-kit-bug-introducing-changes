{
 "cells": [
  {
   "cell_type": "code",
   "execution_count": 6,
   "metadata": {},
   "outputs": [
    {
     "name": "stderr",
     "output_type": "stream",
     "text": [
      "Calculating Krippendorff's alpha:   0%|          | 0/8 [00:00<?, ?it/s]"
     ]
    },
    {
     "name": "stderr",
     "output_type": "stream",
     "text": [
      "Calculating Krippendorff's alpha:  12%|█▎        | 1/8 [00:05<00:17,  2.44s/it, C13]    "
     ]
    },
    {
     "name": "stdout",
     "output_type": "stream",
     "text": [
      "--- Warning: Variable C13_old not found in variables_overview.csv\n"
     ]
    },
    {
     "name": "stderr",
     "output_type": "stream",
     "text": [
      "Calculating Krippendorff's alpha:  12%|█▎        | 1/8 [00:07<00:17,  2.44s/it, C15]"
     ]
    },
    {
     "name": "stdout",
     "output_type": "stream",
     "text": [
      "--- Warning: Variable C14 not found in variables_overview.csv\n"
     ]
    },
    {
     "name": "stderr",
     "output_type": "stream",
     "text": [
      "Calculating Krippendorff's alpha:  25%|██▌       | 2/8 [00:09<00:29,  4.99s/it, X C22]   "
     ]
    },
    {
     "name": "stdout",
     "output_type": "stream",
     "text": [
      "--- Warning: Variable X C2 OLD not found in variables_overview.csv\n",
      "--- Warning: Variable X C22 not found in variables_overview.csv\n",
      "--- Warning: File input/disagreements_resolved/ci_variables.xlsx not found\n"
     ]
    },
    {
     "name": "stderr",
     "output_type": "stream",
     "text": [
      "Calculating Krippendorff's alpha: 100%|██████████| 8/8 [00:15<00:00,  1.99s/it, R13]  "
     ]
    },
    {
     "name": "stdout",
     "output_type": "stream",
     "text": [
      "--- Log: Variable R11 is a mapping of R13\n"
     ]
    },
    {
     "name": "stderr",
     "output_type": "stream",
     "text": [
      "\n"
     ]
    }
   ],
   "source": [
    "import pandas as pd\n",
    "import tqdm as tqdm\n",
    "\n",
    "from nltk import agreement\n",
    "\n",
    "def get_coder_df(df, column):\n",
    "    df[column] = df[column].apply(lambda x: str(x).lower().replace('\\n', ''))\n",
    "    df[column] = df[column].apply(lambda x: x if x != '' else None)\n",
    "    df = df.copy().dropna(subset=[column])\n",
    "    df = df[['Bug_ID', 'Merged']].groupby('Bug_ID').agg(lambda x: [y for y in x.tolist() if y != '']).reset_index()\n",
    "    return df.rename(columns={'Merged': column})\n",
    "\n",
    "def concat(x):\n",
    "    x = x.dropna()\n",
    "    return '_'.join(x.astype(str))\n",
    "\n",
    "\n",
    "variable_group_ids = ['b', 'c', 'ci', 'f', 'i', 'ml', 'o', 'r']\n",
    "column_coder_1 = 'Variable_L'\n",
    "column_coder_2 = 'Variable_A'\n",
    "variables_overview = pd.read_csv('../../input/variables_overview.csv', sep='\\t')\n",
    "\n",
    "results = []\n",
    "\n",
    "p_bar = tqdm.tqdm(variable_group_ids, desc='Calculating Krippendorff\\'s alpha')\n",
    "for variable_group_id in p_bar:\n",
    "\n",
    "    filename = f'input/disagreements_resolved/{variable_group_id}_variables.xlsx'\n",
    "    try:\n",
    "        xls = pd.ExcelFile(filename)\n",
    "    except FileNotFoundError:\n",
    "        print(f'--- Warning: File {filename} not found')\n",
    "        continue\n",
    "\n",
    "    for variable_id in xls.sheet_names:\n",
    "        p_bar.set_postfix_str(variable_id)\n",
    "        variable_df = pd.read_excel(xls, variable_id)\n",
    "\n",
    "        if variable_id not in variables_overview['ID'].values:\n",
    "            if variable_id in variables_overview['Mapping'].values:\n",
    "                variable_id_map = variables_overview[variables_overview['Mapping'] == variable_id]['ID'].values[0]\n",
    "                print(f'--- Log: Variable {variable_id_map} is a mapping of {variable_id}')\n",
    "                variable_id = variable_id_map\n",
    "            else:\n",
    "                print(f'--- Warning: Variable {variable_id} not found in variables_overview.csv')\n",
    "                continue\n",
    "\n",
    "\n",
    "        if len(variable_df) == 0:\n",
    "            results.append({\n",
    "                'variable_id': variable_id,\n",
    "                'alpha': 'variable empty'\n",
    "            })\n",
    "            continue\n",
    "\n",
    "        variable_df['Merged'] = variable_df[['Target type', 'Topic', 'Action']].apply(lambda x: concat(x), axis=1)\n",
    "        \n",
    "        variable_L_df = get_coder_df(variable_df, column_coder_1)\n",
    "        variable_A_df = get_coder_df(variable_df, column_coder_2)\n",
    "\n",
    "        annots = []\n",
    "\n",
    "        for bug_id in set(variable_L_df['Bug_ID'].to_list() + variable_A_df['Bug_ID'].to_list()):\n",
    "            merged_L = variable_L_df[variable_L_df['Bug_ID'] == bug_id][column_coder_1].values[0]\n",
    "            merged_A = variable_A_df[variable_A_df['Bug_ID'] == bug_id][column_coder_2].values[0]\n",
    "\n",
    "            if len (merged_L):\n",
    "                annots.append(['coder_1', bug_id, frozenset(merged_L)])\n",
    "            if len (merged_A):\n",
    "                annots.append(['coder_2', bug_id, frozenset(merged_A)])\n",
    "\n",
    "        task = agreement.AnnotationTask(data=annots)\n",
    "        task.load_array(annots)\n",
    "\n",
    "        results.append({\n",
    "            'variable_id': variable_id,\n",
    "            'alpha': task.alpha()\n",
    "        })\n",
    "\n",
    "df_results = pd.DataFrame(results)\n",
    "df_results.to_csv('output/interrater_agreement/krippendorffs_alpha.csv', index=False)\n"
   ]
  }
 ],
 "metadata": {
  "kernelspec": {
   "display_name": "env",
   "language": "python",
   "name": "python3"
  },
  "language_info": {
   "codemirror_mode": {
    "name": "ipython",
    "version": 3
   },
   "file_extension": ".py",
   "mimetype": "text/x-python",
   "name": "python",
   "nbconvert_exporter": "python",
   "pygments_lexer": "ipython3",
   "version": "3.9.2"
  }
 },
 "nbformat": 4,
 "nbformat_minor": 2
}
