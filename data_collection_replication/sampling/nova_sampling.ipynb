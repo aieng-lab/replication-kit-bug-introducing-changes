{
 "cells": [
  {
   "cell_type": "code",
   "execution_count": null,
   "metadata": {},
   "outputs": [],
   "source": [
    "import os\n",
    "from dotenv import load_dotenv\n",
    "from mongoengine import connect, disconnect\n",
    "import pandas as pd\n",
    "from pycoshark.mongomodels import Issue, Project, Commit, FileAction, VCSSystem, CodeReview\n",
    "import re\n",
    "from datetime import datetime, timedelta\n",
    "import tqdm\n",
    "import random"
   ]
  },
  {
   "cell_type": "code",
   "execution_count": null,
   "metadata": {},
   "outputs": [],
   "source": [
    "# Load environment variables from .env file\n",
    "load_dotenv('.env')\n",
    "\n",
    "# Retrieve the password from the environment variable\n",
    "db_host = os.getenv('DB_HOST')\n",
    "db_pw = os.getenv('DB_PW')\n",
    "\n",
    "\n",
    "\n",
    "disconnect()\n",
    "\n",
    "connect(host=f'mongodb://root:{db_pw}@{db_host}:27017/nova?authSource=admin')"
   ]
  },
  {
   "cell_type": "code",
   "execution_count": null,
   "metadata": {},
   "outputs": [],
   "source": [
    "nova = pd.read_csv('nova_bic.csv')"
   ]
  },
  {
   "cell_type": "code",
   "execution_count": null,
   "metadata": {},
   "outputs": [],
   "source": [
    "regex_change_id = re.compile(r\"Change-Id: ?(\\w+)\", re.IGNORECASE)\n",
    "regex_bp_id = re.compile(r\"(?:bp|blueprint)(?::? |/)((?:\\w+-?)+)\", re.IGNORECASE)\n",
    "\n",
    "project = Project.objects.get(name=\"nova\")\n",
    "vcs = VCSSystem.objects.get(project_id=project.id)\n",
    "\n",
    "result = []\n",
    "\n",
    "for index, row in tqdm(nova.iterrows()):\n",
    "    issue_id = row['issue_id']\n",
    "    bic_revision_hash = row['bic_revision_hash']\n",
    "\n",
    "    bic: Commit = Commit.objects(revision_hash=bic_revision_hash, vcs_system_id=vcs.id).first()\n",
    "\n",
    "    search_startdate = bic.committer_date - timedelta(days=30)\n",
    "    search_enddate = bic.committer_date + timedelta(days=30)\n",
    "\n",
    "    possible_non_bics = list(Commit.objects(committer_date__gte=search_startdate, committer_date__lte=search_enddate, vcs_system_id=vcs.id, parents__size=1)) # , linked_issue_ids__not__size=0\n",
    "    random.shuffle(possible_non_bics)\n",
    "    possible_non_bic: Commit = None\n",
    "\n",
    "    for possible_non_bic in possible_non_bics:\n",
    "        is_non_bic = not any(len(file_action.induces) for file_action in FileAction.objects(commit_id=possible_non_bic.id))\n",
    "\n",
    "        if is_non_bic:\n",
    "\n",
    "            linked_issues = []\n",
    "\n",
    "            possible_bp_id = re.findall(regex_bp_id, possible_non_bic.message)\n",
    "            linked_issues += Issue.objects(external_id__in=possible_bp_id)\n",
    "\n",
    "            linked_issues += Issue.objects(id__in=possible_non_bic.linked_issue_ids)\n",
    "\n",
    "            possbile_change_id = re.findall(regex_change_id, possible_non_bic.message)\n",
    "            related_reviews = CodeReview.objects(change_id__in=possbile_change_id)\n",
    "\n",
    "\n",
    "            result.append({\n",
    "                'issue_id': issue_id,\n",
    "                'bic_revision_hash': bic_revision_hash,\n",
    "                'bic_committer_date': bic.committer_date,\n",
    "                'non_bic_revision_hash': possible_non_bic.revision_hash,\n",
    "                'non_bic_committer_date': possible_non_bic.committer_date,\n",
    "                'non_bic_linked_issues': list(set([issue.external_id for issue in linked_issues])),\n",
    "                'non_bic_related_reviews': list(set([review.external_number for review in related_reviews]))\n",
    "            })\n",
    "            break\n",
    "\n",
    "result = pd.DataFrame(result)\n",
    "result"
   ]
  },
  {
   "cell_type": "code",
   "execution_count": null,
   "metadata": {},
   "outputs": [],
   "source": [
    "result.to_csv('output/sampling_output_nova_cg.csv')"
   ]
  }
 ],
 "metadata": {
  "kernelspec": {
   "display_name": "env",
   "language": "python",
   "name": "python3"
  },
  "language_info": {
   "codemirror_mode": {
    "name": "ipython",
    "version": 3
   },
   "file_extension": ".py",
   "mimetype": "text/x-python",
   "name": "python",
   "nbconvert_exporter": "python",
   "pygments_lexer": "ipython3",
   "version": "3.10.12"
  }
 },
 "nbformat": 4,
 "nbformat_minor": 2
}
