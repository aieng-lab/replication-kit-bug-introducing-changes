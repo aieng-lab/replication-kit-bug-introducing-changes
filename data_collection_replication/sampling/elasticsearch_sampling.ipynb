{
 "cells": [
  {
   "cell_type": "code",
   "execution_count": 67,
   "metadata": {},
   "outputs": [],
   "source": [
    "import os\n",
    "from dotenv import load_dotenv\n",
    "from mongoengine import connect, disconnect\n",
    "import pandas as pd\n",
    "from pycoshark.mongomodels import Issue, Project, Commit, FileAction, VCSSystem, PullRequest, PullRequestCommit\n",
    "import re\n",
    "from datetime import datetime, timedelta\n",
    "import tqdm\n",
    "import random"
   ]
  },
  {
   "cell_type": "code",
   "execution_count": 68,
   "metadata": {},
   "outputs": [
    {
     "data": {
      "text/plain": [
       "<Project: Project object>"
      ]
     },
     "execution_count": 68,
     "metadata": {},
     "output_type": "execute_result"
    }
   ],
   "source": [
    "# Load environment variables from .env file\n",
    "load_dotenv('.env')\n",
    "\n",
    "# Retrieve the password from the environment variable\n",
    "user = os.getenv('DB_USER')\n",
    "password = os.getenv('DB_PW')\n",
    "db_host = os.getenv('DB_HOST')\n",
    "db_port = os.getenv('DB_PORT')\n",
    "db_name = os.getenv('DB_NAME')\n",
    "\n",
    "disconnect()\n",
    "\n",
    "connect(host=f'mongodb://{user}:{password}@{db_host}:{db_port}/{db_name}?authSource=admin')\n",
    "\n",
    "project = \"elasticsearch\"\n",
    "\n",
    "Project.objects.get(name=project)"
   ]
  },
  {
   "cell_type": "code",
   "execution_count": null,
   "metadata": {},
   "outputs": [],
   "source": [
    "es = pd.read_csv('elasticsearch_bic.csv', sep='\\t')"
   ]
  },
  {
   "cell_type": "code",
   "execution_count": null,
   "metadata": {},
   "outputs": [],
   "source": [
    "regex_change_id = re.compile(r\"Change-Id: ?(\\w+)\", re.IGNORECASE)\n",
    "regex_bp_id = re.compile(r\"(?:bp|blueprint)(?::? |/)((?:\\w+-?)+)\", re.IGNORECASE)\n",
    "\n",
    "project = Project.objects.get(name=\"elasticsearch\")\n",
    "vcs = VCSSystem.objects.get(project_id=project.id)\n",
    "\n",
    "result = []\n",
    "\n",
    "for index, row in tqdm.tqdm(es.iterrows()):\n",
    "    issue_id = row['issue_id']\n",
    "    bic_revision_hash = row['bic_revision_hash']\n",
    "\n",
    "    bic: Commit = Commit.objects(revision_hash=re.compile(rf'^{bic_revision_hash}'), vcs_system_id=vcs.id).first()\n",
    "\n",
    "    search_startdate = bic.committer_date - timedelta(days=30)\n",
    "    search_enddate = bic.committer_date + timedelta(days=30)\n",
    "\n",
    "    possible_non_bics = list(Commit.objects(committer_date__gte=search_startdate, committer_date__lte=search_enddate, vcs_system_id=vcs.id, parents__size=1, branches=re.compile(r'origin\\/main$'))) # , linked_issue_ids__not__size=0\n",
    "    random.shuffle(possible_non_bics)\n",
    "    possible_non_bic: Commit = None\n",
    "\n",
    "    for possible_non_bic in possible_non_bics:\n",
    "        is_non_bic = not any(len(file_action.induces) for file_action in FileAction.objects(commit_id=possible_non_bic.id))\n",
    "\n",
    "        if is_non_bic:\n",
    "\n",
    "            linked_issues = []\n",
    "            linked_issues += Issue.objects(id__in=possible_non_bic.linked_issue_ids)\n",
    "\n",
    "            related_reviews = []\n",
    "\n",
    "            related_reviews += PullRequest.objects(external_id__in=[issue.external_id for issue in linked_issues])\n",
    "            pr_commits = PullRequestCommit.objects(commit_sha=possible_non_bic.revision_hash)\n",
    "            if len(pr_commits):\n",
    "                related_reviews += PullRequest.objects(id__in=[pr_commit.pull_request_id for pr_commit in pr_commits])\n",
    "\n",
    "            result.append({\n",
    "                'issue_id': issue_id,\n",
    "                'bic_revision_hash': bic_revision_hash,\n",
    "                'bic_committer_date': bic.committer_date,\n",
    "                'non_bic_revision_hash': possible_non_bic.revision_hash,\n",
    "                'non_bic_committer_date': possible_non_bic.committer_date,\n",
    "                'parents': len(possible_non_bic.parents),\n",
    "                'non_bic_linked_issues': list(set([issue.external_id for issue in linked_issues])),\n",
    "                'non_bic_related_reviews': list(set([review.external_id for review in related_reviews]))\n",
    "            })\n",
    "            break\n",
    "\n",
    "result = pd.DataFrame(result)\n",
    "result"
   ]
  },
  {
   "cell_type": "code",
   "execution_count": null,
   "metadata": {},
   "outputs": [],
   "source": [
    "result.to_csv('output/sampling_output_elasticsearch_cg.csv')"
   ]
  }
 ],
 "metadata": {
  "kernelspec": {
   "display_name": "env",
   "language": "python",
   "name": "python3"
  },
  "language_info": {
   "codemirror_mode": {
    "name": "ipython",
    "version": 3
   },
   "file_extension": ".py",
   "mimetype": "text/x-python",
   "name": "python",
   "nbconvert_exporter": "python",
   "pygments_lexer": "ipython3",
   "version": "3.10.12"
  }
 },
 "nbformat": 4,
 "nbformat_minor": 2
}
