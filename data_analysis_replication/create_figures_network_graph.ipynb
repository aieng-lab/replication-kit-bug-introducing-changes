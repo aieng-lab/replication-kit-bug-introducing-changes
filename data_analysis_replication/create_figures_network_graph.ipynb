{
 "cells": [
  {
   "cell_type": "code",
   "execution_count": 2,
   "metadata": {},
   "outputs": [
    {
     "name": "stderr",
     "output_type": "stream",
     "text": [
      "/home/lschulte/VCS/cdbs_inducing_eval/env/lib/python3.12/site-packages/matplotlib/projections/__init__.py:63: UserWarning: Unable to import Axes3D. This may be due to multiple versions of Matplotlib being installed (e.g. as a system package and as a pip package). As a result, the 3D projection is not available.\n",
      "  warnings.warn(\"Unable to import Axes3D. This may be due to multiple versions of \"\n"
     ]
    }
   ],
   "source": [
    "import graph_tool.all as gt\n",
    "import pandas as pd\n",
    "import networkx as nx\n",
    "import matplotlib.pyplot as plt\n",
    "import matplotlib.colors as mcolors\n",
    "from pyvis.network import Network\n",
    "\n",
    "\n",
    "out_path = \"output/results/\"\n",
    "\n",
    "# Create a color map\n",
    "color_map = list(mcolors.TABLEAU_COLORS.values())\n",
    "groups = ['2', '3']\n",
    "\n",
    "# Function to pick a color from the color map\n",
    "def pick_color(index):\n",
    "    return color_map[index % len(color_map)]"
   ]
  },
  {
   "cell_type": "markdown",
   "metadata": {},
   "source": [
    "# Prepare NetworkX Graph"
   ]
  },
  {
   "cell_type": "code",
   "execution_count": 3,
   "metadata": {},
   "outputs": [],
   "source": [
    "df = pd.read_csv('input/relation_overview.csv', delimiter='\\t')\n",
    "df = df.rename(columns={'Group (base)': 'group_base'})\n",
    "df['group_base'] = df['group_base'].astype(str)\n",
    "# df = df[df['group_base'].isin(groups)]\n",
    "\n",
    "df['A2_str'] = df['A2'].astype(str).apply(lambda x: x.replace('.0', ''))\n",
    "df['A'] = df['A1'] + df['A2_str']\n",
    "df['B2_str'] = df['B2'].astype(str).apply(lambda x: x.replace('.0', ''))\n",
    "df['B'] = df['B1'] + df['B2_str']\n",
    "source_groups = list(set(list(df['A1']) + list(df['B1'])))\n",
    "\n",
    "nodes = list(df[['A', 'A1', 'A2', 'A2_str']].itertuples(index=False, name=None)) + list(df[['B', 'B1', 'B2', 'B2_str']].itertuples(index=False, name=None))\n",
    "nodes = list(set(nodes))\n",
    "nodes = [(n[0], {\n",
    "    'label': n[0],\n",
    "    'source': n[1], \n",
    "    'id': n[2],\n",
    "    'source_id': n[3], \n",
    "    'color': pick_color(source_groups.index(n[1])), \n",
    "    'border_color': 'black',\n",
    "    'shape': 'dot'\n",
    "}) for n in nodes]\n",
    "\n",
    "nodes.extend([\n",
    "    (source, {\n",
    "        'label': '', \n",
    "        'source': source, \n",
    "        'id': 0,\n",
    "        'source_id': '', \n",
    "        'color': '#FF000000', \n",
    "        'border_color': '#FF000000',\n",
    "        'shape': 'dot'\n",
    "    }) for i, source in enumerate(source_groups)\n",
    "])\n",
    "\n",
    "nodes = sorted(nodes, key=lambda x: (x[1]['source'], x[1]['id']), reverse=False)\n",
    "\n",
    "edges = []\n",
    "for row in df.itertuples(index=False):\n",
    "\n",
    "    if row.group_base in groups:\n",
    "        edges.append((row.A, row.B, {\n",
    "            'title': row.group_base,\n",
    "            'A1': row.A1, \n",
    "            'A2': row.A2, \n",
    "            'B1': row.B1, \n",
    "            'B2': row.B2, \n",
    "            'color': pick_color(groups.index(row.group_base)), \n",
    "            'Method': row.Method\n",
    "        }))\n",
    "\n",
    "\n",
    "\n",
    "group_2_edges = [e for e in edges if e[2]['title'] == \"2\"]\n",
    "group_3_edges = [e for e in edges if e[2]['title'] == \"3\"]"
   ]
  },
  {
   "cell_type": "markdown",
   "metadata": {},
   "source": [
    "## Draw Interactive Graph"
   ]
  },
  {
   "cell_type": "code",
   "execution_count": 4,
   "metadata": {},
   "outputs": [],
   "source": [
    "filename = f'{out_path}network_graph.html'\n",
    "\n",
    "G = nx.Graph()\n",
    "G.add_nodes_from(nodes)\n",
    "G.add_edges_from(edges)\n",
    "pos = nx.circular_layout(G)\n",
    "\n",
    "# Plot with pyvis\n",
    "net = Network(\n",
    "    directed = False,\n",
    "    select_menu = True, # Show part 1 in the plot (optional)\n",
    "    filter_menu = True, # Show part 2 in the plot (optional)\n",
    "    notebook=True,\n",
    "    cdn_resources='in_line'\n",
    ")\n",
    "\n",
    "net.repulsion = 1000\n",
    "net.show_buttons() # Show part 3 in the plot (optional)\n",
    "\n",
    "net.from_nx(G) # Create directly from nx graph\n",
    "net.toggle_physics(False)\n",
    "\n",
    "for node, cords in pos.items():\n",
    "    net.get_node(node)['x'] = cords[0] * 1000\n",
    "    net.get_node(node)['y'] = cords[1] * 1000\n",
    "\n",
    "net.write_html(filename)\n"
   ]
  },
  {
   "cell_type": "code",
   "execution_count": 5,
   "metadata": {},
   "outputs": [
    {
     "data": {
      "text/plain": [
       "(69, 160)"
      ]
     },
     "execution_count": 5,
     "metadata": {},
     "output_type": "execute_result"
    }
   ],
   "source": [
    "len(group_2_edges), len(group_3_edges)"
   ]
  },
  {
   "cell_type": "markdown",
   "metadata": {},
   "source": [
    "## Draw PDF Graphs"
   ]
  },
  {
   "cell_type": "code",
   "execution_count": null,
   "metadata": {},
   "outputs": [],
   "source": [
    "def draw_graph(group, group_tag, color='gray'):\n",
    "    G = nx.Graph()\n",
    "    G.add_nodes_from(reversed(nodes))\n",
    "    G.add_edges_from(edges)\n",
    "\n",
    "    plt.figure(figsize=(20, 20))\n",
    "    pos = nx.circular_layout(G)\n",
    "\n",
    "    node_colors = [properties['color'] for _, properties in reversed(nodes)]\n",
    "    edge_colors = [properties['border_color'] for _, properties in reversed(nodes)]\n",
    "    nx.draw_networkx_nodes(G, pos, node_size=1800, node_color=node_colors, edgecolors=edge_colors)\n",
    "\n",
    "    labels = nx.get_node_attributes(G, 'source_id')\n",
    "\n",
    "    nx.draw_networkx_labels(G, pos, labels, font_color='white', font_weight='heavy', font_size=20)\n",
    "\n",
    "    # # Draw regular edges\n",
    "    nx.draw_networkx_edges(G, pos, edgelist=group, edge_color=color)\n",
    "\n",
    "    plt.axis(\"off\")\n",
    "    plt.tight_layout()\n",
    "    plt.savefig(f\"{out_path}network_graph_group_{group_tag}.pdf\")\n",
    "    plt.title(f\"Group {group_tag}\")\n",
    "\n",
    "draw_graph(group_2_edges, '2', pick_color(0))\n",
    "draw_graph(group_3_edges, '3', pick_color(1))"
   ]
  }
 ],
 "metadata": {
  "kernelspec": {
   "display_name": "env",
   "language": "python",
   "name": "python3"
  },
  "language_info": {
   "codemirror_mode": {
    "name": "ipython",
    "version": 3
   },
   "file_extension": ".py",
   "mimetype": "text/x-python",
   "name": "python",
   "nbconvert_exporter": "python",
   "pygments_lexer": "ipython3",
   "version": "3.12.3"
  }
 },
 "nbformat": 4,
 "nbformat_minor": 2
}
