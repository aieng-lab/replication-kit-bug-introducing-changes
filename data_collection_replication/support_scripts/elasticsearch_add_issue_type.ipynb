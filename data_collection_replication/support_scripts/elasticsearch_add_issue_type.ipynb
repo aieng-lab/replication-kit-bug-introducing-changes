{
 "cells": [
  {
   "cell_type": "code",
   "execution_count": 1,
   "metadata": {},
   "outputs": [],
   "source": [
    "import os\n",
    "from dotenv import load_dotenv\n",
    "from mongoengine import connect, disconnect\n",
    "import pandas as pd\n",
    "from pycoshark.mongomodels import Issue, Project, Commit, FileAction, VCSSystem, CodeReview, IssueSystem\n",
    "import re\n",
    "from datetime import datetime, timedelta\n",
    "import tqdm\n",
    "import random"
   ]
  },
  {
   "cell_type": "code",
   "execution_count": null,
   "metadata": {},
   "outputs": [
    {
     "name": "stdout",
     "output_type": "stream",
     "text": [
      "Connecting to 132.231.141.24 with reviewnova; upinndonau...\n"
     ]
    },
    {
     "data": {
      "text/plain": [
       "MongoClient(host=['132.231.141.24:27017'], document_class=dict, tz_aware=False, connect=True, authsource='admin', read_preference=Primary())"
      ]
     },
     "execution_count": 4,
     "metadata": {},
     "output_type": "execute_result"
    }
   ],
   "source": [
    "# Load environment variables from .env file\n",
    "load_dotenv('../.env', override=True)\n",
    "\n",
    "# Retrieve the password from the environment variable\n",
    "db_host = os.getenv('DB_HOST')\n",
    "db_pw = os.getenv('DB_PW')\n",
    "db_name = os.getenv('DB_NAME')\n",
    "\n",
    "print(f'Connecting to {db_host} with {db_name}; {db_pw}...')\n",
    "\n",
    "disconnect()\n",
    "\n",
    "connect(host=f'mongodb://root:{db_pw}@{db_host}:27017/{db_name}?authSource=admin')"
   ]
  },
  {
   "cell_type": "code",
   "execution_count": 6,
   "metadata": {},
   "outputs": [
    {
     "name": "stderr",
     "output_type": "stream",
     "text": [
      "100%|██████████| 15745/15745 [00:43<00:00, 361.33it/s]\n"
     ]
    }
   ],
   "source": [
    "# get all issues that have the \">bug\" label and set their issue_type to \"bug\"\n",
    "\n",
    "project = Project.objects(name='elasticsearch').first()\n",
    "its = IssueSystem.objects(project_id=project.id).first()\n",
    "\n",
    "issues = Issue.objects(issue_system_id=its.id, labels='>bug')\n",
    "\n",
    "for issue in tqdm.tqdm(issues):\n",
    "    issue.issue_type = 'bug'\n",
    "    issue.save()"
   ]
  }
 ],
 "metadata": {
  "kernelspec": {
   "display_name": "env",
   "language": "python",
   "name": "python3"
  },
  "language_info": {
   "codemirror_mode": {
    "name": "ipython",
    "version": 3
   },
   "file_extension": ".py",
   "mimetype": "text/x-python",
   "name": "python",
   "nbconvert_exporter": "python",
   "pygments_lexer": "ipython3",
   "version": "3.9.2"
  }
 },
 "nbformat": 4,
 "nbformat_minor": 2
}
