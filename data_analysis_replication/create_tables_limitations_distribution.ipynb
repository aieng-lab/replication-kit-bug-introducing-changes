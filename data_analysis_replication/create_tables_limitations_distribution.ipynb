{
 "cells": [
  {
   "cell_type": "code",
   "execution_count": 2,
   "metadata": {},
   "outputs": [],
   "source": [
    "import pandas as pd\n",
    "import numpy as np\n",
    "\n",
    "relations = pd.read_csv('input/relation_overview.csv', sep='\\t')\n",
    "variables = pd.read_csv('input/variables_overview.csv', sep='\\t')\n",
    "\n",
    "variable_column = 'Variable'\n",
    "relations['Variable'] = relations['Variable A'] + relations['Variable B']"
   ]
  },
  {
   "cell_type": "code",
   "execution_count": 3,
   "metadata": {},
   "outputs": [
    {
     "data": {
      "text/html": [
       "<div>\n",
       "<style scoped>\n",
       "    .dataframe tbody tr th:only-of-type {\n",
       "        vertical-align: middle;\n",
       "    }\n",
       "\n",
       "    .dataframe tbody tr th {\n",
       "        vertical-align: top;\n",
       "    }\n",
       "\n",
       "    .dataframe thead th {\n",
       "        text-align: right;\n",
       "    }\n",
       "</style>\n",
       "<table border=\"1\" class=\"dataframe\">\n",
       "  <thead>\n",
       "    <tr style=\"text-align: right;\">\n",
       "      <th></th>\n",
       "      <th>A1</th>\n",
       "      <th>A2</th>\n",
       "      <th>B1</th>\n",
       "      <th>B2</th>\n",
       "      <th>Variable A</th>\n",
       "      <th>Variable B</th>\n",
       "      <th>Group</th>\n",
       "      <th>Group (base)</th>\n",
       "      <th>Method</th>\n",
       "      <th>Combination</th>\n",
       "      <th>ID A</th>\n",
       "      <th>ID B</th>\n",
       "      <th>Variable</th>\n",
       "    </tr>\n",
       "  </thead>\n",
       "  <tbody>\n",
       "    <tr>\n",
       "      <th>0</th>\n",
       "      <td>B</td>\n",
       "      <td>1.0</td>\n",
       "      <td>C</td>\n",
       "      <td>3.0</td>\n",
       "      <td>B1 - Build tools</td>\n",
       "      <td>C3 - # Files changed</td>\n",
       "      <td>3.1 (pd)</td>\n",
       "      <td>3</td>\n",
       "      <td>boxplots</td>\n",
       "      <td>BC</td>\n",
       "      <td>B1</td>\n",
       "      <td>C3</td>\n",
       "      <td>B1 - Build toolsC3 - # Files changed</td>\n",
       "    </tr>\n",
       "    <tr>\n",
       "      <th>1</th>\n",
       "      <td>B</td>\n",
       "      <td>1.0</td>\n",
       "      <td>C</td>\n",
       "      <td>4.0</td>\n",
       "      <td>B1 - Build tools</td>\n",
       "      <td>C4 - Commit file bugginess</td>\n",
       "      <td>32</td>\n",
       "      <td>32</td>\n",
       "      <td>boxplots</td>\n",
       "      <td>BC</td>\n",
       "      <td>B1</td>\n",
       "      <td>C4</td>\n",
       "      <td>B1 - Build toolsC4 - Commit file bugginess</td>\n",
       "    </tr>\n",
       "    <tr>\n",
       "      <th>2</th>\n",
       "      <td>B</td>\n",
       "      <td>1.0</td>\n",
       "      <td>C</td>\n",
       "      <td>5.0</td>\n",
       "      <td>B1 - Build tools</td>\n",
       "      <td>C5 - Commit total line bugginess</td>\n",
       "      <td>32</td>\n",
       "      <td>32</td>\n",
       "      <td>boxplots</td>\n",
       "      <td>BC</td>\n",
       "      <td>B1</td>\n",
       "      <td>C5</td>\n",
       "      <td>B1 - Build toolsC5 - Commit total line bugginess</td>\n",
       "    </tr>\n",
       "    <tr>\n",
       "      <th>3</th>\n",
       "      <td>B</td>\n",
       "      <td>1.0</td>\n",
       "      <td>C</td>\n",
       "      <td>6.0</td>\n",
       "      <td>B1 - Build tools</td>\n",
       "      <td>C6 - Commit file line bugginess</td>\n",
       "      <td>32</td>\n",
       "      <td>32</td>\n",
       "      <td>boxplots</td>\n",
       "      <td>BC</td>\n",
       "      <td>B1</td>\n",
       "      <td>C6</td>\n",
       "      <td>B1 - Build toolsC6 - Commit file line bugginess</td>\n",
       "    </tr>\n",
       "    <tr>\n",
       "      <th>4</th>\n",
       "      <td>B</td>\n",
       "      <td>1.0</td>\n",
       "      <td>F</td>\n",
       "      <td>4.0</td>\n",
       "      <td>B1 - Build tools</td>\n",
       "      <td>F4 - # Bug discussants</td>\n",
       "      <td>32</td>\n",
       "      <td>32</td>\n",
       "      <td>boxplots</td>\n",
       "      <td>BF</td>\n",
       "      <td>B1</td>\n",
       "      <td>F4</td>\n",
       "      <td>B1 - Build toolsF4 - # Bug discussants</td>\n",
       "    </tr>\n",
       "  </tbody>\n",
       "</table>\n",
       "</div>"
      ],
      "text/plain": [
       "  A1   A2 B1   B2        Variable A                        Variable B  \\\n",
       "0  B  1.0  C  3.0  B1 - Build tools              C3 - # Files changed   \n",
       "1  B  1.0  C  4.0  B1 - Build tools        C4 - Commit file bugginess   \n",
       "2  B  1.0  C  5.0  B1 - Build tools  C5 - Commit total line bugginess   \n",
       "3  B  1.0  C  6.0  B1 - Build tools   C6 - Commit file line bugginess   \n",
       "4  B  1.0  F  4.0  B1 - Build tools            F4 - # Bug discussants   \n",
       "\n",
       "      Group Group (base)    Method Combination ID A ID B  \\\n",
       "0  3.1 (pd)            3  boxplots          BC   B1   C3   \n",
       "1        32           32  boxplots          BC   B1   C4   \n",
       "2        32           32  boxplots          BC   B1   C5   \n",
       "3        32           32  boxplots          BC   B1   C6   \n",
       "4        32           32  boxplots          BF   B1   F4   \n",
       "\n",
       "                                           Variable  \n",
       "0              B1 - Build toolsC3 - # Files changed  \n",
       "1        B1 - Build toolsC4 - Commit file bugginess  \n",
       "2  B1 - Build toolsC5 - Commit total line bugginess  \n",
       "3   B1 - Build toolsC6 - Commit file line bugginess  \n",
       "4            B1 - Build toolsF4 - # Bug discussants  "
      ]
     },
     "execution_count": 3,
     "metadata": {},
     "output_type": "execute_result"
    }
   ],
   "source": [
    "relations.head()"
   ]
  },
  {
   "cell_type": "code",
   "execution_count": 4,
   "metadata": {},
   "outputs": [
    {
     "name": "stdout",
     "output_type": "stream",
     "text": [
      "Data sparsity: 2490\n",
      "Project exclusive: 1608\n",
      "Incomparable: 1676\n",
      "Project dependent: 410\n"
     ]
    }
   ],
   "source": [
    "project_exclusive = variables[variables['Project exclusive'] == True]['ID']\n",
    "incomparable = variables[variables['Incomparable'] == True]['ID']\n",
    "project_dependent = variables[variables['Project dependent'] == True]['ID']\n",
    "\n",
    "sparsity = set(relations[relations['Group (base)'].isin(['31', '32', 'E'])][variable_column])\n",
    "print(f'Data sparsity: {len(sparsity)}')\n",
    "\n",
    "project_exclusive = set(relations[(relations['ID A'].isin(project_exclusive)) | (relations['ID B'].isin(project_exclusive))][variable_column])\n",
    "print(f'Project exclusive: {len(project_exclusive)}')\n",
    "\n",
    "incomparable = set(relations[(relations['ID A'].isin(incomparable)) | (relations['ID B'].isin(incomparable))][variable_column])\n",
    "print(f'Incomparable: {len(incomparable)}')\n",
    "\n",
    "project_dependent = set(relations[(relations['ID A'].isin(project_dependent)) | (relations['ID B'].isin(project_dependent))][variable_column])\n",
    "print(f'Project dependent: {len(project_dependent)}')"
   ]
  },
  {
   "cell_type": "code",
   "execution_count": 5,
   "metadata": {},
   "outputs": [
    {
     "data": {
      "text/plain": [
       "1126"
      ]
     },
     "execution_count": 5,
     "metadata": {},
     "output_type": "execute_result"
    }
   ],
   "source": [
    "len(sparsity & project_exclusive)"
   ]
  },
  {
   "cell_type": "code",
   "execution_count": 6,
   "metadata": {
    "vscode": {
     "languageId": "ruby"
    }
   },
   "outputs": [
    {
     "name": "stdout",
     "output_type": "stream",
     "text": [
      "sparsity exclusive: 1126\n",
      "sparsity incomparable: 1676\n",
      "sparsity dependent: 236\n",
      "exclusive incomparable: 546\n",
      "exclusive dependent: 110\n",
      "incomparable dependent: 172\n"
     ]
    }
   ],
   "source": [
    "overlap_sparsity_exclusive = sparsity & project_exclusive\n",
    "overlat_parcity_incomparable = sparsity & incomparable\n",
    "overlap_sparsity_dependent = sparsity & project_dependent\n",
    "\n",
    "overlap_exclusive_incomparable = project_exclusive & incomparable\n",
    "overlap_exclusive_dependent = project_exclusive & project_dependent\n",
    "overlap_incomparable_dependent = incomparable & project_dependent\n",
    "\n",
    "overlap_all = sparsity & project_exclusive & incomparable & project_dependent\n",
    "\n",
    "print(f\"sparsity exclusive: {len(overlap_sparsity_exclusive)}\")\n",
    "print(f\"sparsity incomparable: {len(overlat_parcity_incomparable)}\")\n",
    "print(f\"sparsity dependent: {len(overlap_sparsity_dependent)}\")\n",
    "\n",
    "print(f\"exclusive incomparable: {len(overlap_exclusive_incomparable)}\")\n",
    "print(f\"exclusive dependent: {len(overlap_exclusive_dependent)}\")\n",
    "print(f\"incomparable dependent: {len(overlap_incomparable_dependent)}\")\n"
   ]
  },
  {
   "cell_type": "code",
   "execution_count": 7,
   "metadata": {},
   "outputs": [
    {
     "name": "stdout",
     "output_type": "stream",
     "text": [
      "\\begin{table}\n",
      "\\caption{Number of pairs for which limitations were observed, and the overlap between these limitations.}\n",
      "\\label{tab:data-limitations}\n",
      "\\begin{tabular}{r|rrrr}\n",
      "\\toprule\n",
      " & Data Sparsity & Incomparability & Project exclusivity & Project dependence \\\\\n",
      "\\midrule\n",
      "Data Sparsity & 2490 & ~ & ~ & ~ \\\\\n",
      "Incomparability & 1676 & 1676 & ~ & ~ \\\\\n",
      "Project exclusivity & 1126 & 546 & 1608 & ~ \\\\\n",
      "Project dependence & 236 & 172 & 110 & 410 \\\\\n",
      "\\bottomrule\n",
      "\\end{tabular}\n",
      "\\end{table}\n",
      "\n"
     ]
    },
    {
     "name": "stderr",
     "output_type": "stream",
     "text": [
      "/home/lschulte/VCS/cdbs_inducing_eval/env/lib/python3.12/site-packages/matplotlib/projections/__init__.py:63: UserWarning: Unable to import Axes3D. This may be due to multiple versions of Matplotlib being installed (e.g. as a system package and as a pip package). As a result, the 3D projection is not available.\n",
      "  warnings.warn(\"Unable to import Axes3D. This may be due to multiple versions of \"\n"
     ]
    }
   ],
   "source": [
    "sparsity_lable = 'Data Sparsity'\n",
    "incomparable_label = 'Incomparability'\n",
    "project_exclusive_label = 'Project exclusivity'\n",
    "project_dependent_label = 'Project dependence'\n",
    "\n",
    "\n",
    "tbl = {\n",
    "    sparsity_lable: [len(sparsity), len(sparsity & incomparable), len(sparsity & project_exclusive), len(sparsity & project_dependent)],\n",
    "    incomparable_label: ['~', len(incomparable), len(incomparable & project_exclusive), len(incomparable & project_dependent)],\n",
    "    project_exclusive_label: ['~', '~', len(project_exclusive), len(project_exclusive & project_dependent)],\n",
    "    project_dependent_label: ['~', '~', '~', len(project_dependent)]\n",
    "}\n",
    "\n",
    "overlap_df = pd.DataFrame(tbl, index=[sparsity_lable, incomparable_label, project_exclusive_label, project_dependent_label])\n",
    "\n",
    "latex_table = overlap_df.to_latex(column_format='r|' + 'r' * len(overlap_df.columns), label='tab:data-limitations', caption='Number of pairs for which limitations were observed, and the overlap between these limitations.', escape=False)\n",
    "\n",
    "print(latex_table)"
   ]
  }
 ],
 "metadata": {
  "kernelspec": {
   "display_name": "env",
   "language": "python",
   "name": "python3"
  },
  "language_info": {
   "codemirror_mode": {
    "name": "ipython",
    "version": 3
   },
   "file_extension": ".py",
   "mimetype": "text/x-python",
   "name": "python",
   "nbconvert_exporter": "python",
   "pygments_lexer": "ipython3",
   "version": "3.12.3"
  }
 },
 "nbformat": 4,
 "nbformat_minor": 2
}
